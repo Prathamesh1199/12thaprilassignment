{
 "cells": [
  {
   "cell_type": "code",
   "execution_count": null,
   "id": "c09b0b97-4ec1-43bd-b72d-6aa18acce084",
   "metadata": {},
   "outputs": [],
   "source": [
    "1:\n",
    " Bagging reduces overfitting in decision trees by training multiple trees on different subsets of the training\n",
    "data, and then aggregating their predictions. By training on different subsets of the data, each tree learns a \n",
    "slightly different aspect of the data, reducing the variance of the model. Additionally, by aggregating the predictions\n",
    "of multiple trees, the model becomes more robust to outliers and noise in the data, reducing the risk of overfitting.    "
   ]
  },
  {
   "cell_type": "code",
   "execution_count": null,
   "id": "db7a0a70-68f8-4eda-9173-eabc57f73cb3",
   "metadata": {},
   "outputs": [],
   "source": []
  },
  {
   "cell_type": "code",
   "execution_count": null,
   "id": "885a9a58-0617-447a-bbd7-7a93cc5d7afb",
   "metadata": {},
   "outputs": [],
   "source": [
    "2:\n",
    "The advantages of using different types of base learners in bagging are that it can reduce the risk of\n",
    "overfitting, improve the accuracy of the model, and increase the diversity of the model. \n",
    "\n",
    "However, the disadvantage is that it can increase the complexity of the model, making it harder to \n",
    "interpret."
   ]
  },
  {
   "cell_type": "code",
   "execution_count": null,
   "id": "7d3d1413-e17e-4f49-8e46-aa7ac81875b9",
   "metadata": {},
   "outputs": [],
   "source": []
  },
  {
   "cell_type": "code",
   "execution_count": null,
   "id": "97bccfb6-5e38-48f7-a67e-01fcefcf2faf",
   "metadata": {},
   "outputs": [],
   "source": [
    "3:\n",
    "The choice of base learner can affect the bias-variance tradeoff in bagging. A highly biased\n",
    "base learner, such as a decision tree with low depth, can lead to a high bias in the ensemble, \n",
    "while a highly variable base learner, such as a decision tree with high depth, can lead to a high\n",
    "variance in the ensemble. The goal is to find a balance between bias and variance that leads to\n",
    "the best performance of the ensemble."
   ]
  },
  {
   "cell_type": "code",
   "execution_count": null,
   "id": "77a15a64-a45b-43e4-8aee-7d90dc4be1d1",
   "metadata": {},
   "outputs": [],
   "source": []
  },
  {
   "cell_type": "code",
   "execution_count": null,
   "id": "d0245251-fd9f-4eb8-90b7-5b2c41f06ba4",
   "metadata": {},
   "outputs": [],
   "source": [
    "4:\n",
    "     Yes, bagging can be used for both classification and regression tasks. In classification tasks,\n",
    "the ensemble predicts the class label that is most frequently predicted by the individual classifiers.\n",
    "In regression tasks, the ensemble predicts the average of the predictions made by the individual regressors.\n",
    "The main difference between classification and regression is the way the output is aggregated.\n"
   ]
  },
  {
   "cell_type": "code",
   "execution_count": null,
   "id": "f69e97c8-4299-451a-b664-74e9f15abdf9",
   "metadata": {},
   "outputs": [],
   "source": []
  },
  {
   "cell_type": "code",
   "execution_count": null,
   "id": "4c02ccf4-f54b-40ac-9228-95a6f59a9291",
   "metadata": {},
   "outputs": [],
   "source": [
    "5:\n",
    "The role of the ensemble size in bagging is to balance the tradeoff between accuracy and computational\n",
    "complexity. Generally, increasing the ensemble size leads to improved performance up to a certain point, \n",
    "after which the performance plateaus or even decreases due to overfitting. The optimal number of models\n",
    "in the ensemble depends on the complexity of the problem, the size of the training set, and the computational\n",
    "resources available."
   ]
  },
  {
   "cell_type": "code",
   "execution_count": null,
   "id": "33e56aa2-245f-4696-9b71-84de4f9a9a28",
   "metadata": {},
   "outputs": [],
   "source": []
  },
  {
   "cell_type": "code",
   "execution_count": null,
   "id": "488b3ddf-19c0-47c0-8208-ceed4db1ebdd",
   "metadata": {},
   "outputs": [],
   "source": [
    "6:\n",
    "A real-world application of bagging in machine learning is in the field of medical diagnosis.\n",
    "Bagging can be used to train an ensemble of classifiers to predict the presence of a disease\n",
    "based on a set of symptoms and medical history. By combining multiple classifiers, bagging can\n",
    "improve the accuracy and robustness of the diagnosis, reducing the risk of false positives or \n",
    "false negatives."
   ]
  },
  {
   "cell_type": "code",
   "execution_count": null,
   "id": "948558cd-0017-4e98-9c90-194857470f9a",
   "metadata": {},
   "outputs": [],
   "source": []
  },
  {
   "cell_type": "code",
   "execution_count": null,
   "id": "fa56ad88-3f3c-45ed-923a-bcb9eef66972",
   "metadata": {},
   "outputs": [],
   "source": []
  },
  {
   "cell_type": "code",
   "execution_count": null,
   "id": "7c40ae68-ef02-4f51-be6c-62d50a582af9",
   "metadata": {},
   "outputs": [],
   "source": []
  }
 ],
 "metadata": {
  "kernelspec": {
   "display_name": "Python 3 (ipykernel)",
   "language": "python",
   "name": "python3"
  },
  "language_info": {
   "codemirror_mode": {
    "name": "ipython",
    "version": 3
   },
   "file_extension": ".py",
   "mimetype": "text/x-python",
   "name": "python",
   "nbconvert_exporter": "python",
   "pygments_lexer": "ipython3",
   "version": "3.10.8"
  }
 },
 "nbformat": 4,
 "nbformat_minor": 5
}
